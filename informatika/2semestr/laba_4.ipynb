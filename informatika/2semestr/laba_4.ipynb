{
  "nbformat": 4,
  "nbformat_minor": 0,
  "metadata": {
    "colab": {
      "provenance": [],
      "authorship_tag": "ABX9TyO0KZLdbr8SPKdfsaiFd/ja",
      "include_colab_link": true
    },
    "kernelspec": {
      "name": "python3",
      "display_name": "Python 3"
    },
    "language_info": {
      "name": "python"
    }
  },
  "cells": [
    {
      "cell_type": "markdown",
      "metadata": {
        "id": "view-in-github",
        "colab_type": "text"
      },
      "source": [
        "<a href=\"https://colab.research.google.com/github/Boris-Kuliev/My_First_Test_Repo/blob/main/informatika/2semestr/laba_4.ipynb\" target=\"_parent\"><img src=\"https://colab.research.google.com/assets/colab-badge.svg\" alt=\"Open In Colab\"/></a>"
      ]
    },
    {
      "cell_type": "code",
      "execution_count": 54,
      "metadata": {
        "colab": {
          "base_uri": "https://localhost:8080/",
          "height": 452
        },
        "id": "PAKxExaNOwWz",
        "outputId": "ee933c9b-6510-468d-d3b7-44f83fcc03e9"
      },
      "outputs": [
        {
          "output_type": "stream",
          "name": "stdout",
          "text": [
            "Список инцидентности:  [[0, 1], [0, 2], [0, 4], [1, 2], [1, 3], [1, 4], [2, 3], [2, 4]]\n"
          ]
        },
        {
          "output_type": "display_data",
          "data": {
            "text/plain": [
              "<Figure size 640x480 with 1 Axes>"
            ],
            "image/png": "[encoded data removed]"
          },
          "metadata": {}
        }
      ],
      "source": [
        "import numpy as np\n",
        "import matplotlib.pyplot as plt\n",
        "\n",
        "# Список инцидентности\n",
        "I = [[0,1],[0,2],[0,4],[1,2],[1,3],[1,4],[2,3],[2,4]]\n",
        "print('Список инцидентности: ', I)\n",
        "\n",
        "# Число вершин\n",
        "N = 5\n",
        "\n",
        "# Рассчитываем координаты всех вершин\n",
        "x = np.zeros(N)\n",
        "y = np.zeros(N)\n",
        "for k in range(N):\n",
        "    x[k] = np.cos(2*np.pi*k/N)\n",
        "    y[k] = np.sin(2*np.pi*k/N)\n",
        "\n",
        "# чертим вершины\n",
        "plt.figure(1)\n",
        "plt.plot(x,y,'bo')\n",
        "plt.grid()\n",
        "plt.xlim([-1.5,1.5])\n",
        "plt.ylim([-1.5,1.5])\n",
        "\n",
        "# Подписываем вершины\n",
        "for k in range(N):\n",
        "    plt.text(x[k]*1.2, y[k]*1.2,str(k))\n",
        "\n",
        "# Чертим ребра\n",
        "for k in range(len(I)):\n",
        "    v_1 = I[k][0]\n",
        "    v_2 = I[k][1]\n",
        "    x1 = x[v_1]\n",
        "    y1 = y[v_1]\n",
        "    x2 = x[v_2]\n",
        "    y2 = y[v_2]\n",
        "    # Чертим прямую\n",
        "    plt.plot([x1,x2],[y1,y2],'b')\n",
        "\n",
        "plt.show()"
      ]
    },
    {
      "cell_type": "code",
      "source": [
        "import numpy as np\n",
        "\n",
        "# Поиск числа контуров\n",
        "def deep_search_cycle(curr_v, prev, sp_v, sp_cont, Z):\n",
        "    # Обходим все вершины смежные с текущей\n",
        "    for k in Z[curr_v]:\n",
        "        # Если смежная вершина еще не в списке посещенных,\n",
        "        # и мы пришли не из нее, то начинаем обход с нее, при этом - ЗАПОМИНАЯ МАРШРУТ.\n",
        "        if k not in sp_v and k!=prev:\n",
        "            # для запоминания маршрута необходимо передать\n",
        "            # в следующие ветви рекурсии КОПИЮ списка посещенных вершин\n",
        "            q = sp_v.copy()\n",
        "            q.append(k)\n",
        "            # в итоге в каждой ветви рекурсии будут копии списка посещенных вершин,\n",
        "            # т.е. различные маршруты обхода вершин графа\n",
        "            deep_search_cycle(k, curr_v, q, sp_cont, Z)\n",
        "        # Если смежная вершина в списке посещенных,\n",
        "        # то это значит что мы нашли контур\n",
        "        if k in sp_v and k!=prev:\n",
        "            # Добавляем вершину к контуру\n",
        "            q = sp_v.copy()\n",
        "            q.append(k)\n",
        "            # Разбиваем контур на ребра начиная с вершины k\n",
        "            c = [q[i:i+2] for i in range(q.index(k), len(q)-1)]\n",
        "            # Каждое ребро сортируем для единообразия\n",
        "            for k in c:\n",
        "                k.sort()\n",
        "            # Сортируем весь список ребер для единообразия\n",
        "            c.sort()\n",
        "            # Если такого списка ребер еще нет в списке маршрутов\n",
        "            # то добавляем его туда\n",
        "            if c not in sp_cont:\n",
        "                # Добавляем контур к списку контуров\n",
        "                sp_cont.append(c)\n",
        "\n",
        "# Список инцидентности\n",
        "I = [[0,1],[0,2],[0,4],[1,2],[1,3],[1,4],[2,3],[2,4]]\n",
        "print('Список инцидентности: ', I)\n",
        "\n",
        "# Число вершин\n",
        "N = 5\n",
        "\n",
        "# Составляем список смежности\n",
        "Z = []\n",
        "for k in range(N):\n",
        "  Z.append([])\n",
        "# перебераем все ребра\n",
        "for ed in I:\n",
        "  Z[ed[0]].append(ed[1])\n",
        "  Z[ed[1]].append(ed[0])\n",
        "print('Список смежности: ', Z)\n",
        "\n",
        "sp_c = [] # Создаем список контуров (пока пустой)\n",
        "# Для каждой вершины запускаем алгоритм обхода\n",
        "for k in range(N):\n",
        "    sp_v = [k]\n",
        "    deep_search_cycle(k, -1, sp_v, sp_c, Z)\n",
        "    \n",
        "#print('Список контуров ', sp_c)\n",
        "print('Число контуров ', len(sp_c))\n"
      ],
      "metadata": {
        "colab": {
          "base_uri": "https://localhost:8080/"
        },
        "id": "SyyeOyGRURTi",
        "outputId": "eb6392ca-5c09-4a35-b452-58d1a3b54d58"
      },
      "execution_count": 52,
      "outputs": [
        {
          "output_type": "stream",
          "name": "stdout",
          "text": [
            "Список инцидентности:  [[0, 1], [0, 2], [0, 4], [1, 2], [1, 3], [1, 4], [2, 3], [2, 4]]\n",
            "Список смежности:  [[1, 2, 4], [0, 2, 3, 4], [0, 1, 3, 4], [1, 2], [0, 1, 2]]\n",
            "Число контуров  12\n"
          ]
        }
      ]
    },
    {
      "cell_type": "code",
      "source": [
        "import numpy as np\n",
        "\n",
        "# Список инцидентности\n",
        "I = [[0,1],[0,2],[0,4],[1,2],[1,3],[1,4],[2,3],[2,4]]\n",
        "print('Список инцидентности: ', I)\n",
        "\n",
        "# Число вершин\n",
        "N = 5\n",
        "\n",
        "R = len(I)\n",
        "M = np.zeros([N, R], dtype=int)\n",
        "for k in range(R):\n",
        "    ed = I[k]\n",
        "    M[ed[0], k] = 1\n",
        "    M[ed[1], k] = 1\n",
        "    \n",
        "print('Матрица инцидентности:')\n",
        "print(M)\n"
      ],
      "metadata": {
        "colab": {
          "base_uri": "https://localhost:8080/"
        },
        "id": "SuiOKt3VYq6l",
        "outputId": "28a76354-f29f-4a8b-ff1d-5badefbd7b38"
      },
      "execution_count": 49,
      "outputs": [
        {
          "output_type": "stream",
          "name": "stdout",
          "text": [
            "Список инцидентности:  [[0, 1], [0, 2], [0, 4], [1, 2], [1, 3], [1, 4], [2, 3], [2, 4]]\n",
            "Матрица инцидентности:\n",
            "[[1 1 1 0 0 0 0 0]\n",
            " [1 0 0 1 1 1 0 0]\n",
            " [0 1 0 1 0 0 1 1]\n",
            " [0 0 0 0 1 0 1 0]\n",
            " [0 0 1 0 0 1 0 1]]\n"
          ]
        }
      ]
    },
    {
      "cell_type": "code",
      "source": [
        "import numpy as np\n",
        "\n",
        "# Находим число вершин\n",
        "N = 0\n",
        "# перебераем все ребра\n",
        "for ed in I:\n",
        "  # берем максимальный номер вершины в ребре\n",
        "  mv = np.max(ed)\n",
        "  # если он больше, чем кол-во вершин минус 1 (т.к. вершину нумеруются с нуля)\n",
        "  if mv > N-1:\n",
        "    N = mv + 1\n",
        "print('Число вершин: ', N)\n",
        "print('Число ребер: ', len(I))\n",
        "\n",
        "S = np.zeros(N, dtype=int)\n",
        "# перебераем все ребра\n",
        "for ed in I:\n",
        "  S[ed[0]] += 1\n",
        "  S[ed[1]] += 1\n",
        "print('Степени вершин: ', S)\n"
      ],
      "metadata": {
        "colab": {
          "base_uri": "https://localhost:8080/"
        },
        "id": "IRmj4qzgfpHP",
        "outputId": "978ef4fe-2d3b-4f0e-fbb0-9de775e0bd8e"
      },
      "execution_count": 53,
      "outputs": [
        {
          "output_type": "stream",
          "name": "stdout",
          "text": [
            "Число вершин:  5\n",
            "Число ребер:  8\n",
            "Степени вершин:  [3 4 4 2 3]\n"
          ]
        }
      ]
    }
  ]
}