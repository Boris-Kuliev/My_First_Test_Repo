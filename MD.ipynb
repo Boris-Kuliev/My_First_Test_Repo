{
  "nbformat": 4,
  "nbformat_minor": 0,
  "metadata": {
    "colab": {
      "provenance": [],
      "authorship_tag": "ABX9TyNiZ0SLdOb//iXtcmns3ebt"
    },
    "kernelspec": {
      "name": "python3",
      "display_name": "Python 3"
    },
    "language_info": {
      "name": "python"
    }
  },
  "cells": [
    {
      "cell_type": "markdown",
      "source": [
        "#Пример использования Markdown\n",
        "##Нужно сделать:\n",
        "\n",
        "\n",
        "\n",
        "1.   Список\n",
        "2.   Рисунок\n",
        "3.   Таблица\n",
        "4.   Ссылка\n",
        "\n",
        "![logo](https://www.nstu.ru/img/logo.png)\n",
        "\n",
        "<div align='right'>\n",
        "\n",
        "|A|B|C|\n",
        "|---|---|---|\n",
        "|11|22|33|\n",
        "|1000|250|-50|\n",
        "\n",
        "</div>\n",
        "\n",
        "[Ссылка на руководство по Markdown](https://colab.research.google.com/notebooks/markdown_guide.ipynb)"
      ],
      "metadata": {
        "id": "Iw6xq3MUvoHz"
      }
    }
  ]
}